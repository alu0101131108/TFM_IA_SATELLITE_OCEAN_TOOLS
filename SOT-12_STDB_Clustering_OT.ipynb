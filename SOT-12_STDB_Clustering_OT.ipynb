{
 "cells": [
  {
   "cell_type": "markdown",
   "metadata": {},
   "source": [
    "## Anomaly Clustering"
   ]
  },
  {
   "cell_type": "markdown",
   "metadata": {},
   "source": [
    "#### Utils"
   ]
  },
  {
   "cell_type": "code",
   "execution_count": null,
   "metadata": {},
   "outputs": [],
   "source": []
  },
  {
   "cell_type": "markdown",
   "metadata": {},
   "source": [
    "#### Imports"
   ]
  },
  {
   "cell_type": "code",
   "execution_count": 15,
   "metadata": {},
   "outputs": [],
   "source": [
    "import pickle\n",
    "import os\n",
    "\n",
    "ExperimentSet = {\n",
    "    'experiment_structure': ['variable', 'start_date', 'end_date', 'anomaly_threshold', 'eps_t', 'eps_lat', 'eps_lon', 'min_neighbors', 'min_cluster_size', 'experiment_name'],\n",
    "    'experiments': [\n",
    "        ['sst', '2018-01-01', '2018-12-01', 2, 1, 10, 10, 100, 1000, 'Base 2018'],\n",
    "        ['sst', '2018-01-01', '2018-12-01', 2, 1, 5, 5, 100, 1000, 'Smaller Geo Eps'],\n",
    "        ['sst', '2018-01-01', '2018-12-01', 2, 1, 20, 20, 100, 1000, 'Larger Geo Eps'],\n",
    "        ['sst', '2018-01-01', '2018-12-01', 2, 2, 10, 10, 100, 1000, 'Larger Time Eps'],\n",
    "        ['sst', '2018-01-01', '2018-12-01', 2, 10, 10, 10, 100, 1000, 'Much Larger Time Eps'],\n",
    "        ['sst', '2018-01-01', '2018-12-01', 2, 1, 10, 10, 50, 1000, 'Smaller MinNeighbors'],\n",
    "        ['sst', '2018-01-01', '2018-12-01', 2, 1, 10, 10, 200, 1000, 'Larger MinNeighbors'],\n",
    "        ['sst', '2002-08-01', '2024-07-01', 2, 1, 10, 10, 100, 1000, 'Base Full Period'],\n",
    "        ['sst', '2002-08-01', '2024-07-01', 2, 1, 20, 20, 500, 1000, 'Larger Min Neighbors'],\n",
    "        ['sst', '2002-08-01', '2024-07-01', 2, 1, 20, 20, 1000, 1000, 'Much Larger Min Neighbors'],\n",
    "        ['sst', '2002-08-01', '2024-07-01', 2, 1, 10, 10, 500, 1000, 'Smaller Geo Eps'],\n",
    "        ['sst', '2002-08-01', '2024-07-01', 2, 2, 20, 20, 500, 1000, 'Larger Time Eps'],\n",
    "        ['sst', '2002-08-01', '2024-07-01', 2, 12, 20, 20, 500, 1000, 'Much Larger Time Eps'],\n",
    "    ]\n",
    "}"
   ]
  },
  {
   "cell_type": "markdown",
   "metadata": {},
   "source": [
    "#### Evaluation Metrics From Cluster Features"
   ]
  }
 ],
 "metadata": {
  "kernelspec": {
   "display_name": "TFM-2025-SST",
   "language": "python",
   "name": "python3"
  },
  "language_info": {
   "codemirror_mode": {
    "name": "ipython",
    "version": 3
   },
   "file_extension": ".py",
   "mimetype": "text/x-python",
   "name": "python",
   "nbconvert_exporter": "python",
   "pygments_lexer": "ipython3",
   "version": "3.10.15"
  }
 },
 "nbformat": 4,
 "nbformat_minor": 2
}
