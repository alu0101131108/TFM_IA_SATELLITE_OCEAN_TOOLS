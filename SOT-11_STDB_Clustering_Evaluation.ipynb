{
 "cells": [
  {
   "cell_type": "markdown",
   "metadata": {},
   "source": [
    "## Anomaly Clustering Evaluation\n",
    "* Evaluate clustering through:\n",
    "    * Silhouette Score\n",
    "    * Davies-Bouldin Index and Calinski-Harabasz Index\n",
    "    * Internal Cluster Density and Separation Metrics\n",
    "    * Connectivity or Nearest-Neighbor Analysis"
   ]
  },
  {
   "cell_type": "markdown",
   "metadata": {},
   "source": [
    "#### Imports"
   ]
  },
  {
   "cell_type": "code",
   "execution_count": null,
   "metadata": {},
   "outputs": [],
   "source": [
    "import pickle\n",
    "import os\n",
    "from ocean_tools.processing.clustering import extract_experiment_aggregated_features, compute_clustering_metrics\n",
    "from ocean_tools.io.writers import store_pickle_variable\n",
    "\n",
    "ExperimentSet = {\n",
    "    'experiment_structure': ['variable', 'start_date', 'end_date', 'anomaly_threshold', 'eps_t', 'eps_lat', 'eps_lon', 'min_neighbors', 'min_cluster_size', 'experiment_name'],\n",
    "    'experiments': [\n",
    "        ['sst', '2018-01-01', '2018-12-01', 2, 1, 10, 10, 100, 1000, 'Base 2018'],\n",
    "        ['sst', '2018-01-01', '2018-12-01', 2, 1, 5, 5, 100, 1000, 'Smaller Geo Eps'],\n",
    "        ['sst', '2018-01-01', '2018-12-01', 2, 1, 20, 20, 100, 1000, 'Larger Geo Eps'],\n",
    "        ['sst', '2018-01-01', '2018-12-01', 2, 2, 10, 10, 100, 1000, 'Larger Time Eps'],\n",
    "        ['sst', '2018-01-01', '2018-12-01', 2, 10, 10, 10, 100, 1000, 'Much Larger Time Eps'],\n",
    "        ['sst', '2018-01-01', '2018-12-01', 2, 1, 10, 10, 50, 1000, 'Smaller MinNeighbors'],\n",
    "        ['sst', '2018-01-01', '2018-12-01', 2, 1, 10, 10, 200, 1000, 'Larger MinNeighbors'],\n",
    "        ['sst', '2002-08-01', '2024-07-01', 2, 1, 10, 10, 100, 1000, 'Base Full Period'],\n",
    "        ['sst', '2002-08-01', '2024-07-01', 2, 1, 20, 20, 500, 1000, 'Larger Min Neighbors'],\n",
    "        ['sst', '2002-08-01', '2024-07-01', 2, 1, 20, 20, 1000, 1000, 'Much Larger Min Neighbors'],\n",
    "        ['sst', '2002-08-01', '2024-07-01', 2, 1, 10, 10, 500, 1000, 'Smaller Geo Eps'],\n",
    "        ['sst', '2002-08-01', '2024-07-01', 2, 2, 20, 20, 500, 1000, 'Larger Time Eps'],\n",
    "        ['sst', '2002-08-01', '2024-07-01', 2, 12, 20, 20, 500, 1000, 'Much Larger Time Eps'],\n",
    "    ]\n",
    "}"
   ]
  },
  {
   "cell_type": "markdown",
   "metadata": {},
   "source": [
    "#### Evaluation Metrics From Cluster Features"
   ]
  },
  {
   "cell_type": "code",
   "execution_count": 23,
   "metadata": {},
   "outputs": [],
   "source": [
    "# Read stored features.\n",
    "exports_path = './data/exports/clusters/features/'\n",
    "experiment_features_file_name = 'experiment_features_run_1'\n",
    "\n",
    "experiment_features = pickle.load(open(os.path.join(exports_path, f\"{experiment_features_file_name}.pkl\"), 'rb'))"
   ]
  },
  {
   "cell_type": "code",
   "execution_count": null,
   "metadata": {},
   "outputs": [
    {
     "name": "stdout",
     "output_type": "stream",
     "text": [
      "          experiment_name                                                               file_name  num_clusters  time_length_mean  time_length_std  time_length_min  time_length_max  lat_length_mean  lat_length_std  lat_length_min  lat_length_max  lon_length_mean  lon_length_std  lon_length_min  lon_length_max  cluster_size_mean  cluster_size_std  cluster_size_min  cluster_size_max  cluster_volume_mean  cluster_volume_std  cluster_volume_min  cluster_volume_max  cluster_compactness_mean  cluster_compactness_std  cluster_compactness_min  cluster_compactness_max  cluster_eccentricity_mean  cluster_eccentricity_std  cluster_eccentricity_min  cluster_eccentricity_max  cluster_density_mean  cluster_density_std  cluster_density_min  cluster_density_max\n",
      "                Base 2018  clustering_experiment_2018-01-01_2018-12-01_sst_2_1_10_10_100_1000.pkl             8          3.250000         3.344772              1.0             12.0       125.625000      104.278398            53.0           395.0       108.750000       62.206812            45.0           235.0        6974.750000      12968.968480             688.0           41045.0         1.545712e+05        3.628233e+05              5406.0           1113900.0                  0.120866                 0.068165                 0.036848                 0.285600                   0.975780                  0.009545                  0.962264                  0.989796              0.120866             0.068165             0.036848             0.285600\n",
      "          Smaller Geo Eps    clustering_experiment_2018-01-01_2018-12-01_sst_2_1_5_5_100_1000.pkl            12          2.416667         0.953794              1.0              4.0        78.916667       51.759795            27.0           190.0        66.750000       46.829700            29.0           176.0        3372.416667       3642.183788             492.0           12183.0         2.289258e+04        3.216679e+04               783.0            100320.0                  0.287881                 0.167883                 0.098342                 0.628352                   0.963277                  0.016687                  0.933333                  0.984211              0.287881             0.167883             0.098342             0.628352\n",
      "           Larger Geo Eps  clustering_experiment_2018-01-01_2018-12-01_sst_2_1_20_20_100_1000.pkl             4          4.750000         4.264681              1.0             12.0       202.500000      148.092032            99.0           458.0       244.250000      145.191899           112.0           471.0       15326.500000      22120.678047            1840.0           53630.0         6.883612e+05        1.097700e+06             11088.0           2588616.0                  0.080211                 0.085417                 0.020718                 0.227543                   0.982533                  0.007515                  0.974522                  0.991071              0.080211             0.085417             0.020718             0.227543\n",
      "          Larger Time Eps  clustering_experiment_2018-01-01_2018-12-01_sst_2_2_10_10_100_1000.pkl             5          4.600000         3.773592              2.0             12.0       153.000000      123.179544            63.0           395.0       148.600000      122.429735            45.0           376.0       11364.400000      18244.479478             731.0           47661.0         3.828372e+05        7.004213e+05              7020.0           1782240.0                  0.074945                 0.030015                 0.026742                 0.109158                   0.971937                  0.003365                  0.969072                  0.977401              0.074945             0.030015             0.026742             0.109158\n",
      "     Much Larger Time Eps clustering_experiment_2018-01-01_2018-12-01_sst_2_10_10_10_100_1000.pkl             5          7.200000         2.638181              4.0             12.0       153.400000      122.889544            65.0           395.0       148.600000      122.429735            45.0           376.0       11560.000000      18607.553746             733.0           48584.0         3.959872e+05        6.935822e+05             24570.0           1782240.0                  0.037358                 0.013158                 0.027260                 0.063110                   0.938561                  0.029470                  0.907692                  0.977401              0.037358             0.013158             0.027260             0.063110\n",
      "     Smaller MinNeighbors   clustering_experiment_2018-01-01_2018-12-01_sst_2_1_10_10_50_1000.pkl             8          3.250000         3.344772              1.0             12.0       131.125000      102.094855            63.0           395.0       125.375000       80.353807            45.0           318.0        7305.625000      14259.209532             774.0           44808.0         2.053966e+05        4.922405e+05              7110.0           1507320.0                  0.100491                 0.074191                 0.029727                 0.283220                   0.978925                  0.007292                  0.969072                  0.989796              0.100491             0.074191             0.029727             0.283220\n",
      "      Larger MinNeighbors  clustering_experiment_2018-01-01_2018-12-01_sst_2_1_10_10_200_1000.pkl            15          2.466667         0.956847              1.0              4.0        89.666667       54.464259            29.0           197.0        84.466667       46.571617            35.0           188.0        3440.866667       3726.871232             556.0           12733.0         2.904467e+04        3.790510e+04              2940.0            123152.0                  0.167660                 0.082993                 0.077132                 0.426846                   0.970784                  0.012102                  0.952381                  0.988506              0.167660             0.082993             0.077132             0.426846\n",
      "         Base Full Period  clustering_experiment_2002-08-01_2024-07-01_sst_2_1_10_10_100_1000.pkl            67          2.671642         1.934665              1.0             13.0        91.208955       71.249726            27.0           395.0        90.298507       68.568740            32.0           398.0        3731.567164       8529.267387             456.0           51148.0         5.970391e+04        1.773291e+05              1296.0           1206725.0                  0.141174                 0.098636                 0.034025                 0.506969                   0.972076                  0.014632                  0.927273                  0.991379              0.141174             0.098636             0.034025             0.506969\n",
      "     Larger Min Neighbors  clustering_experiment_2002-08-01_2024-07-01_sst_2_1_20_20_500_1000.pkl            51          2.764706         1.615953              1.0              9.0       100.470588       82.048372            36.0           409.0        98.411765       75.004098            22.0           401.0        4566.294118       9049.265563             450.0           51265.0         6.805490e+04        1.558997e+05               858.0            820863.0                  0.135703                 0.092232                 0.039774                 0.524476                   0.972136                  0.012513                  0.925926                  0.990566              0.135703             0.092232             0.039774             0.524476\n",
      "Much Larger Min Neighbors clustering_experiment_2002-08-01_2024-07-01_sst_2_1_20_20_1000_1000.pkl            25          3.000000         1.200000              1.0              6.0       107.480000       59.289878            22.0           253.0       111.200000       64.677662            43.0           302.0        6615.080000       9508.550690             601.0           49407.0         5.604112e+04        9.155093e+04               946.0            458436.0                  0.184031                 0.129638                 0.083021                 0.635307                   0.972095                  0.012875                  0.944444                  0.989726              0.184031             0.129638             0.083021             0.635307\n",
      "          Smaller Geo Eps  clustering_experiment_2002-08-01_2024-07-01_sst_2_1_10_10_500_1000.pkl            27          2.555556         0.874890              2.0              5.0        46.185185       29.714739            16.0           172.0        50.592593       36.911565            19.0           183.0        3003.444444       5481.908105              69.0           27500.0         1.169211e+04        2.690896e+04               608.0            131580.0                  0.358825                 0.103746                 0.113487                 0.504449                   0.943382                  0.020066                  0.894737                  0.974026              0.358825             0.103746             0.113487             0.504449\n",
      "          Larger Time Eps  clustering_experiment_2002-08-01_2024-07-01_sst_2_2_20_20_500_1000.pkl            46          3.630435         2.713563              1.0             15.0       104.913043       99.475981            31.0           452.0       101.869565       87.003400            22.0           401.0        5292.739130      11683.978624             342.0           55709.0         1.507963e+05        4.632495e+05               858.0           2583180.0                  0.115847                 0.095568                 0.020915                 0.524476                   0.965288                  0.015969                  0.915254                  0.988235              0.115847             0.095568             0.020915             0.524476\n",
      "     Much Larger Time Eps clustering_experiment_2002-08-01_2024-07-01_sst_2_12_20_20_500_1000.pkl            31         23.419355        28.822901              2.0            143.0        95.387097      100.563149            36.0           466.0       109.967742      104.674760            43.0           475.0        8709.612903      25534.922386             335.0          125731.0         1.819758e+06        6.326818e+06              5978.0          31653050.0                  0.029323                 0.037409                 0.003972                 0.167447                   0.797856                  0.114103                  0.560748                  0.967742              0.029323             0.037409             0.003972             0.167447\n"
     ]
    }
   ],
   "source": [
    "# Compute aggregated metrics for each experiment.\n",
    "experiment_level_features = [extract_experiment_aggregated_features(exp) for exp in experiment_features]\n",
    "\n",
    "# Convert to a DataFrame.\n",
    "df_experiment_features = pd.DataFrame(experiment_level_features)\n",
    "print(df_experiment_features.to_string(index=False))"
   ]
  },
  {
   "cell_type": "markdown",
   "metadata": {},
   "source": [
    "#### Evaluation Metrics From Clustered Data"
   ]
  },
  {
   "cell_type": "code",
   "execution_count": 25,
   "metadata": {},
   "outputs": [],
   "source": [
    "# Read Stored Clusters.\n",
    "exports_path = './data/exports/clusters/'\n",
    "experiment_results = []\n",
    "for experiment in ExperimentSet['experiments']:\n",
    "    variable, start_date, end_date, anomaly_threshold, eps_t, eps_lat, eps_lon, min_neighbors, min_cluster_size, experiment_name = experiment\n",
    "    file_name = f\"clustering_experiment_{start_date}_{end_date}_{variable}_{anomaly_threshold}_{eps_t}_{eps_lat}_{eps_lon}_{min_neighbors}_{min_cluster_size}.pkl\"\n",
    "    clusters, n_clusters, n_discarded, run_seconds = pickle.load(open(os.path.join(exports_path, file_name), 'rb'))\n",
    "    experiment_results.append((clusters, n_clusters, n_discarded, run_seconds, file_name, experiment_name))"
   ]
  },
  {
   "cell_type": "code",
   "execution_count": null,
   "metadata": {},
   "outputs": [
    {
     "name": "stdout",
     "output_type": "stream",
     "text": [
      "Experiment: Base 2018 | Silhouette: 0.185 | Davies-Bouldin: 0.603 | Calinski-Harabasz: 18661.954 | Noise Ratio: 0.001\n",
      "Experiment: Smaller Geo Eps | Silhouette: 0.036 | Davies-Bouldin: 1.458 | Calinski-Harabasz: 20366.325 | Noise Ratio: 0.004\n",
      "Experiment: Larger Geo Eps | Silhouette: 0.130 | Davies-Bouldin: 0.831 | Calinski-Harabasz: 24562.452 | Noise Ratio: 0.000\n",
      "Experiment: Larger Time Eps | Silhouette: 0.304 | Davies-Bouldin: 0.516 | Calinski-Harabasz: 19714.683 | Noise Ratio: 0.001\n",
      "Experiment: Much Larger Time Eps | Silhouette: 0.302 | Davies-Bouldin: 0.518 | Calinski-Harabasz: 19758.283 | Noise Ratio: 0.001\n",
      "Experiment: Smaller MinNeighbors | Silhouette: 0.234 | Davies-Bouldin: 0.641 | Calinski-Harabasz: 19113.702 | Noise Ratio: 0.001\n",
      "Experiment: Larger MinNeighbors | Silhouette: 0.056 | Davies-Bouldin: 1.287 | Calinski-Harabasz: 32230.437 | Noise Ratio: 0.002\n",
      "Experiment: Base Full Period | Silhouette: -0.162 | Davies-Bouldin: 1.427 | Calinski-Harabasz: 40511.643 | Noise Ratio: 0.001\n",
      "Experiment: Larger Min Neighbors | Silhouette: -0.137 | Davies-Bouldin: 1.473 | Calinski-Harabasz: 48972.850 | Noise Ratio: 0.001\n",
      "Experiment: Much Larger Min Neighbors | Silhouette: 0.070 | Davies-Bouldin: 1.488 | Calinski-Harabasz: 97687.413 | Noise Ratio: 0.001\n",
      "Experiment: Smaller Geo Eps | Silhouette: 0.423 | Davies-Bouldin: 0.751 | Calinski-Harabasz: 89195.453 | Noise Ratio: 0.002\n",
      "Experiment: Larger Time Eps | Silhouette: -0.242 | Davies-Bouldin: 1.412 | Calinski-Harabasz: 33839.594 | Noise Ratio: 0.001\n",
      "Experiment: Much Larger Time Eps | Silhouette: -0.280 | Davies-Bouldin: 0.934 | Calinski-Harabasz: 29279.690 | Noise Ratio: 0.000\n"
     ]
    }
   ],
   "source": [
    "# Compute metrics for each experiment.\n",
    "experiment_metrics = []\n",
    "for experiment_result in experiment_results:\n",
    "    clusters, n_clusters, n_discarded, run_seconds, file_name, experiment_name = experiment_result\n",
    "    metrics = compute_clustering_metrics(clusters)\n",
    "    experiment_metrics.append((experiment_name, metrics))\n",
    "    print(f\"Experiment: {experiment_name} | Silhouette: {metrics['silhouette']:.3f} | Davies-Bouldin: {metrics['davies_bouldin']:.3f} | Calinski-Harabasz: {metrics['calinski_harabasz']:.3f} | Noise Ratio: {metrics['noise_ratio']:.3f}\")"
   ]
  },
  {
   "cell_type": "code",
   "execution_count": null,
   "metadata": {},
   "outputs": [],
   "source": [
    "# Store all results.\n",
    "exports_path = './data/exports/clusters/evaluation_metrics/'\n",
    "file_name = f\"clustering_metrics_run_1\"\n",
    "store_pickle_variable(experiment_metrics, exports_path, file_name)"
   ]
  },
  {
   "cell_type": "markdown",
   "metadata": {},
   "source": [
    "#### To do:\n",
    "* Documentation refinement & site generation.\n",
    "* Memoria:\n",
    "    * Update outdated content.\n",
    "    * Include clustering.\n",
    "    * Include Github repo.\n",
    "    * Include ocean_tools docs.\n",
    "    * Expand references to other papers.\n",
    "    * Tutor feedback."
   ]
  }
 ],
 "metadata": {
  "kernelspec": {
   "display_name": "TFM-2025-SST",
   "language": "python",
   "name": "python3"
  },
  "language_info": {
   "codemirror_mode": {
    "name": "ipython",
    "version": 3
   },
   "file_extension": ".py",
   "mimetype": "text/x-python",
   "name": "python",
   "nbconvert_exporter": "python",
   "pygments_lexer": "ipython3",
   "version": "3.10.15"
  }
 },
 "nbformat": 4,
 "nbformat_minor": 2
}
